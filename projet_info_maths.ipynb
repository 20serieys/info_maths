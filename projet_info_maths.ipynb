{
 "cells": [
  {
   "cell_type": "code",
   "execution_count": 1,
   "metadata": {},
   "outputs": [],
   "source": [
    "# Autograd & Numpy\n",
    "import autograd\n",
    "import autograd.numpy as np\n",
    "\n",
    "# Pandas\n",
    "import pandas as pd\n",
    "\n",
    "# Matplotlib\n",
    "import matplotlib as mpl\n",
    "import matplotlib.pyplot as plt\n",
    "plt.rcParams['figure.figsize'] = [10, 10] # [width, height] (inches). \n",
    "\n",
    "# Jupyter & IPython\n",
    "from IPython.display import display"
   ]
  },
  {
   "cell_type": "code",
   "execution_count": 2,
   "metadata": {},
   "outputs": [],
   "source": [
    "def J(f):\n",
    "    j = autograd.jacobian\n",
    "    def J_f(x, y):\n",
    "        return np.array([j(f, 0)(x, y), j(f, 1)(x, y)]).T\n",
    "    return J_f"
   ]
  },
  {
   "cell_type": "code",
   "execution_count": 3,
   "metadata": {},
   "outputs": [],
   "source": [
    "def grad(f):\n",
    "    g = autograd.grad\n",
    "    def grad_f(x, y):\n",
    "        return np.array([g(f, 0)(x, y), g(f, 1)(x, y)])\n",
    "    return grad_f"
   ]
  },
  {
   "cell_type": "code",
   "execution_count": 4,
   "metadata": {
    "tags": []
   },
   "outputs": [],
   "source": [
    "def f1(x1, x2):\n",
    "    # x1 = np.array(x1)\n",
    "    # x2 = np.array(x2)\n",
    "    return 3.0 * x1 * x1 - 2.0 * x1 * x2 + 3.0 * x2 * x2"
   ]
  },
  {
   "cell_type": "code",
   "execution_count": 5,
   "metadata": {},
   "outputs": [],
   "source": [
    "def f3(x, y):\n",
    "    return np.sin(x + y) - np.cos(x * y) - 1 + 0.001 * (x * x + y * y) "
   ]
  },
  {
   "cell_type": "markdown",
   "metadata": {
    "tags": []
   },
   "source": [
    "### Question 1\n",
    "Nous allons montrer que l'*ensemble de niveau* $c$ est fermé et borné dans $\\mathbb{R}^2$, c'est donc un **compact**."
   ]
  },
  {
   "cell_type": "markdown",
   "metadata": {
    "tags": []
   },
   "source": [
    "* Premièrement, $\\{c\\}$ est un fermé, et $f$ est une fonction *continue*. Ainsi $f^{-1}(\\{c\\})$ est un fermé et c'est aussi exactement la *courbe de niveau* de $c$  \n",
    "\n",
    "\n",
    "* Deuxièment, montrons que l'ensemble est borné, c'est à dire qu'il existe $A$ tel que pour tout $(x_1,x_2) \\in\\mathbb{R}^2,  \\|(x_1,x_2)\\|\\geqslant A \\Rightarrow f(x_1,x_2)\\neq{c}$.  \n",
    "\n",
    "On pose $B=2\\lvert c\\rvert$. Comme $f(x_1,x_2) \\underset{\\|(x_1,x_2)\\| \\to +\\infty} {\\longrightarrow} +\\infty$, il existe A tel que :\n",
    "\n",
    "$$\n",
    "\\forall(x_1,x_2)\\in \\mathbb{R}^2 , \\|(x_1,x_2)\\| \\geqslant A \\Rightarrow f(x_1,x_2) \\geqslant B \\Rightarrow f(x_1,x_2)\\neq c\n",
    "$$\n",
    "  Ainsi, l'*ensemble de niveau* de $c$ est borné."
   ]
  },
  {
   "cell_type": "markdown",
   "metadata": {
    "tags": []
   },
   "source": [
    "### Question 2\n",
    "On remarque que $p(x_1,x_2)$ est le déterminant de la matrice composée du vecteur $x-x_0$ et du gradient normalisé de $f$ en $x_0$ : \n",
    "$$\n",
    "p(x_1,x_2)=det(x-x_0,\\frac{\\partial f(x_0)}{\\|\\nabla f(x_0)\\|})=\\frac{1}{\\|\\nabla f(x_0)\\|}\n",
    "\\begin{vmatrix}\n",
    "x_1-x_{10} & \\partial_1 f(x_0)\\\\\n",
    "x_2-x_{20} & \\partial_2 f(x_0)\n",
    "\\end{vmatrix}\n",
    "$$\n",
    "\n",
    "On peut alors interpréter $p(x_1,x_2)$ comme l'aire orientée du parallélogramme formé des vecteurs $x-x_0$ et $\\frac{\\partial f(x_0)}{\\|\\nabla f(x_0)\\|}$."
   ]
  },
  {
   "cell_type": "markdown",
   "metadata": {
    "tags": []
   },
   "source": [
    "### Question 3\n",
    "On appelle $A$ le voisinage (que l'on prend ouvert) de $x_0$ où $\\nabla f$ ne s'annule pas\n",
    "On considère la fonction $g$ suivante : \n",
    "$$\n",
    "\\begin{array}{l|rcl}\n",
    "g : & A\\times \\mathbb{R} \\subset \\mathbb{R}^2 \\times \\mathbb{R}  & \\longrightarrow & \\mathbb{R}^2\\\\\n",
    "    & (x,t) & \\longmapsto & (f(x)-c,p(x)-t) \\end{array}\n",
    "$$\n",
    "où on note $x=(x_1,x_2)$.\n",
    "\n",
    "Vérifions maintenant les hypothèses du théorème des fonctions implicites :\n",
    "* Pour $t_0=0$, $g(x_0,t_0)=0$ car $p(x_0)=0$\n",
    "* $f$ et $p$ sont continûment différentiables sur A et ainsi $g$ comme combinaison de fonction continûment différentiables est continûment différentiable sur $A \\times \\mathbb{R}$. \n",
    "* De plus, avec le choix de $A$, pour tout $(x,t) \\in A \\times \\mathbb{R}, \\partial_x g$ est inversible.\n",
    "En effet : le déterminant de $\\partial_x g(x,t) = \\,^t\\begin{bmatrix} \\nabla f(x)&\\nabla p(x)\\end{bmatrix}$ est \n",
    "$ \\frac{-\\frac{\\partial f}{\\partial x_1}(x)\\frac{\\partial f}{\\partial x_1}(x_0) - \\frac{\\partial f}{\\partial x_2}(x)\\frac{\\partial f}{\\partial x_2}(x_0)}{\\|\\nabla f(x_0)\\|} $ qui vaut $-\\|\\nabla f(x_0)\\|<0$ en $x_0$. Ainsi par continuité des dérivées partielles de f, et par continuité de la norme, on peut, quitte à réduire A (réduire pour l'inclusion), considérer que $det(\\partial_x g(x,t))<0$.\n",
    "\n",
    "On peut donc appliquer le théorème des fonctions implicites.\n",
    "Il existe un voisinage ouvert $B$ de $x_0$ et $U$ de $t_0$ tels que $B \\times U \\subset A\\times \\mathbb{R}$ et une unique fonction continûment différentiable $\\psi : U \\rightarrow \\mathbb{R}^2$, telle que pour tout $t\\in U$ et tout $x\\in B$,\n",
    "$$\n",
    "g(x,t)=0 \\Leftrightarrow x=\\psi(t)$$\n",
    "\n",
    "Comme $U$ est un voisinage de 0 dans $\\mathbb{R}$, il existe $\\varepsilon >0$ tel que $]-\\varepsilon ,\\varepsilon[ \\subset U$. La restriction de la proposition à $]-\\varepsilon,\\varepsilon[$ est toujours vraie en considérant $\\gamma$ la restriction de $\\psi$ à $]-\\varepsilon,\\varepsilon[$. On obtient donc pour tout $t\\in ]-\\varepsilon,\\varepsilon[$ et tout $x\\in B$,\n",
    "$$\n",
    "f(x_1,x_2)=c \\ et \\ p(x_1,x_2)=t \\Leftrightarrow g(x,t)=0 \\Leftrightarrow x=(x_1,x_2)=\\gamma(t)$$\n",
    "\n",
    "ce qui répond à la question."
   ]
  },
  {
   "cell_type": "markdown",
   "metadata": {},
   "source": [
    "### Question 4\n",
    "Soit t $\\in \\left]-\\varepsilon, \\varepsilon \\right[$, calculons $\\gamma'(t)$:\n",
    "\n",
    "Avec $x = \\gamma(t) $ , on a :\n",
    "* $\\partial_x g(x,t) = \\,^t\\begin{bmatrix} \\nabla f(x)&\\nabla p(x)\\end{bmatrix}$, donc $\\partial_x g(x,t)^{-1} =\\frac{1}{det(\\partial_x g(x,t))}\\begin{bmatrix} -\\frac{\\partial_1 f(x_0)}{\\|\\nabla f(x_0)\\|}&-\\partial_2 f(x)\\\\-\\frac{\\partial_2 f(x_0)}{\\|\\nabla f(x_0)\\|}&\\partial_1 f(x)\\end{bmatrix}$ \n",
    "*$\\partial_t g(x,t) = \\begin{bmatrix} 0\\\\-1\\end{bmatrix}$\n",
    "\n",
    "Donc d'après la formule issue théorème des fonctions implicites, ${\\rm d}\\gamma(t) = \\frac{1}{det(\\partial_x g(x,t))}\\begin{bmatrix} \\partial_2 f(x)\\\\ -\\partial_1 f(x)\\end{bmatrix} \\ne 0$ car $\\nabla f(x) \\ne 0$. Donc $\\gamma'(t) \\ne 0$.\n",
    "\n",
    "De plus, $\\langle \\nabla f(\\gamma(t)),\\gamma'(t)\\rangle =\\frac{1}{det(\\partial_x g(x,t))} (\\partial_1 f(x) \\partial_2 f(x) + \\partial_2 f(x)(-\\partial_1 f(x))) = 0 $."
   ]
  },
  {
   "cell_type": "markdown",
   "metadata": {
    "tags": []
   },
   "source": [
    "### Tache 1"
   ]
  },
  {
   "cell_type": "code",
   "execution_count": 6,
   "metadata": {
    "tags": []
   },
   "outputs": [],
   "source": [
    "N_newt = 100\n",
    "eps_newt = 10**(-4)\n",
    "\n",
    "\n",
    "def Newton(F, x0, y0, eps=eps_newt, N=N_newt):\n",
    "    JF=J(F)\n",
    "    for i in range(N):\n",
    "        X0 = np.array([x0,y0])\n",
    "        X= X0 - np.linalg.inv(JF(x0,y0)).dot(F(x0,y0))\n",
    "        x,y = X\n",
    "        if np.sqrt((x - x0)**2 + (y - y0)**2) <= eps:\n",
    "            return (x, y), f'atteint en {i} étapes'\n",
    "        x0, y0 = x, y\n",
    "    else:\n",
    "        raise ValueError(f\"no convergence in {N} steps.\")"
   ]
  },
  {
   "cell_type": "markdown",
   "metadata": {},
   "source": [
    "### Tache 2"
   ]
  },
  {
   "cell_type": "code",
   "execution_count": 7,
   "metadata": {
    "tags": []
   },
   "outputs": [],
   "source": [
    "c, dirx, diry = 0.8, 1, 1\n",
    "def f1_test(x1, x2):\n",
    "    return np.array([f1(x1, x2) - c, dirx*x2 - diry*x1])"
   ]
  },
  {
   "cell_type": "code",
   "execution_count": 8,
   "metadata": {
    "tags": []
   },
   "outputs": [
    {
     "data": {
      "text/plain": [
       "((0.4472135970019964, 0.4472135970019964), 'atteint en 3 étapes')"
      ]
     },
     "execution_count": 8,
     "metadata": {},
     "output_type": "execute_result"
    }
   ],
   "source": [
    "Newton(f1_test, 0.8, 0.8)"
   ]
  },
  {
   "cell_type": "code",
   "execution_count": 9,
   "metadata": {
    "tags": []
   },
   "outputs": [
    {
     "data": {
      "image/png": "[encoded data removed]",
      "text/plain": [
       "<Figure size 720x720 with 1 Axes>"
      ]
     },
     "metadata": {
      "needs_background": "light"
     },
     "output_type": "display_data"
    }
   ],
   "source": [
    "X,Y = [],[]\n",
    "Nb_point = 100\n",
    "c = 0.8\n",
    "teta = np.linspace(0,2*np.pi,Nb_point)\n",
    "for t in teta:\n",
    "        dirx, diry = np.cos(t), np.sin(t)\n",
    "        xf, yf = Newton(f1_test, dirx, diry)[0] #le choix de x0 et y0 est totalement arbitraire (il fallait juste que ça varie)\n",
    "        X.append(xf)\n",
    "        Y.append(yf)\n",
    "plt.scatter(X,Y)\n",
    "plt.show()"
   ]
  },
  {
   "cell_type": "markdown",
   "metadata": {
    "tags": []
   },
   "source": [
    "### Tache 3"
   ]
  },
  {
   "cell_type": "code",
   "execution_count": 10,
   "metadata": {},
   "outputs": [],
   "source": [
    "def level_curve(f, x0, y0, delta=0.1, Nb=1000, eps=eps_newt):\n",
    "    c = f(x0, y0)\n",
    "    def f_delta(x,y):\n",
    "        return np.array([f(x,y) - c, (x-x0)**2 + (y-y0)**2 - delta**2])\n",
    "    grad_f = grad(f)\n",
    "    Jf = J(f)\n",
    "    X, Y = [x0], [y0]\n",
    "    for i in range(Nb-1):\n",
    "        dx, dy = grad_f(x0, y0)\n",
    "        norme = np.sqrt(dx**2 + dy**2)\n",
    "        x, y = Newton(f_delta, x0 + delta*dy/norme, y0 - delta*dx/norme, eps=eps)[0]\n",
    "        X.append(x)\n",
    "        Y.append(y)\n",
    "        x0, y0 = x, y\n",
    "    return np.array([X, Y])"
   ]
  },
  {
   "cell_type": "code",
   "execution_count": 91,
   "metadata": {},
   "outputs": [
    {
     "data": {
      "image/png": "[encoded data removed]",
      "text/plain": [
       "<Figure size 720x720 with 1 Axes>"
      ]
     },
     "metadata": {
      "needs_background": "light"
     },
     "output_type": "display_data"
    }
   ],
   "source": [
    "courbe = level_curve(f3, 0.5, -2.0, 0.1, 100)\n",
    "plt.scatter(courbe[0], courbe[1])\n",
    "plt.show()"
   ]
  },
  {
   "cell_type": "markdown",
   "metadata": {},
   "source": [
    "### Tache 4"
   ]
  },
  {
   "cell_type": "code",
   "execution_count": 101,
   "metadata": {},
   "outputs": [],
   "source": [
    "def seg_inter(seg1 : np.ndarray, seg2 : np.ndarray): \n",
    "    '''\n",
    "    Renvoie un booléen caractérisant le croisement ou non de seg1 et seg2\n",
    "    Ils se croisent        => True\n",
    "    Ils ne se croisent pas => False\n",
    "    '''\n",
    "    point1, point2 = seg1\n",
    "    point3, point4 = seg2\n",
    "    d1 = point2 - point1 # x*dy - y*dx = c \n",
    "    d2 = point4 - point3\n",
    "    change = np.array([[0,1],[-1,0]])  # change* [dx, dy] = [dy, -dx]\n",
    "    e1 = change.dot(d1)\n",
    "    e2 = change.dot(d2)\n",
    "    c1 = np.vdot(point1, e1)\n",
    "    c2 = np.vdot(point3, e2)\n",
    "    # on veut déterminer le croisement des deux droites : AX = B\n",
    "    A = np.array([e1, e2])\n",
    "    B = np.array([c1, c2])\n",
    "    try :\n",
    "        inter = np.linalg.inv(A).dot(B)\n",
    "    except numpy.linalg.LinAlgError:\n",
    "        if point1 == point3 or point2 == point4 :\n",
    "            return True\n",
    "        return False\n",
    "    if ((np.minimum(point1, point2) <= inter).all() \n",
    "        and (inter <= np.maximum(point1, point2)).all() \n",
    "        and (np.minimum(point3, point4) <= inter).all() \n",
    "        and (inter <= np.maximum(point3, point4)).all()):\n",
    "        return True\n",
    "    return False"
   ]
  },
  {
   "cell_type": "code",
   "execution_count": 102,
   "metadata": {},
   "outputs": [],
   "source": [
    "def level_curve_stop(f, x0, y0, delta=0.1, eps=eps_newt):\n",
    "    c = f(x0, y0)\n",
    "    def f_delta(x,y):\n",
    "        return np.array([f(x,y) - c, (x-x0)**2 + (y-y0)**2 - delta**2])\n",
    "    grad_f = grad(f)\n",
    "    Jf = J(f)\n",
    "    X, Y = [x0], [y0]\n",
    "    i = 0\n",
    "    while i<= 4 or not seg_inter(np.array([[X[0], Y[0]],[X[1],Y[1]]]), np.array([[X[-2], Y[-2]],[x0, y0]])):\n",
    "        i += 1\n",
    "        dx, dy = grad_f(x0, y0)\n",
    "        norme = np.sqrt(dx**2 + dy**2)\n",
    "        x, y = Newton(f_delta, x0 + delta*dy/norme, y0 - delta*dx/norme, eps=eps)[0]\n",
    "        X.append(x)\n",
    "        Y.append(y)\n",
    "        x0, y0 = x, y\n",
    "    X.pop()\n",
    "    Y.pop()\n",
    "    return np.array([X, Y])"
   ]
  },
  {
   "cell_type": "code",
   "execution_count": 105,
   "metadata": {},
   "outputs": [
    {
     "data": {
      "image/png": "[encoded data removed]",
      "text/plain": [
       "<Figure size 720x720 with 1 Axes>"
      ]
     },
     "metadata": {
      "needs_background": "light"
     },
     "output_type": "display_data"
    }
   ],
   "source": [
    "courbe = level_curve_stop(f3, 0.5, -2.0, 0.15)\n",
    "plt.scatter(courbe[0], courbe[1])\n",
    "plt.show()"
   ]
  },
  {
   "cell_type": "code",
   "execution_count": null,
   "metadata": {},
   "outputs": [],
   "source": []
  }
 ],
 "metadata": {
  "kernelspec": {
   "display_name": "Python 3",
   "language": "python",
   "name": "python3"
  },
  "language_info": {
   "codemirror_mode": {
    "name": "ipython",
    "version": 3
   },
   "file_extension": ".py",
   "mimetype": "text/x-python",
   "name": "python",
   "nbconvert_exporter": "python",
   "pygments_lexer": "ipython3",
   "version": "3.8.3"
  }
 },
 "nbformat": 4,
 "nbformat_minor": 2
}
