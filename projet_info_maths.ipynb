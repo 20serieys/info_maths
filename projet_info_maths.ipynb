{
 "cells": [
  {
   "cell_type": "markdown",
   "metadata": {
    "tags": []
   },
   "source": [
    "### Question 1\n",
    "Nous allons montrer que l'*ensemble de niveau* de $c$ est fermé et borné dans $\\mathbb{R}^2$, c'est donc un **compact**."
   ]
  },
  {
   "cell_type": "markdown",
   "metadata": {
    "tags": []
   },
   "source": [
    "* Premièrement, $\\{c\\}$ est un fermé, et $f$ est une fonction *continue*. Ainsi $f^{-1}(\\{c\\})$ est un fermé et c'est aussi exactement la *courbe de niveau* de $c$  \n",
    "\n",
    "\n",
    "* Deuxièment, montrons que l'ensemble est borné, c'est à dire qu'il existe $A$ tel que pour tout $(x_1,x_2) \\in\\mathbb{R}^2,  \\|(x_1,x_2)\\|\\geqslant A \\Rightarrow f(x_1,x_2)\\neq{c}$.  \n",
    "\n",
    "On pose $B=2\\lvert c\\rvert$. Comme $f(x_1,x_2) \\underset{\\|(x_1,x_2)\\| \\to +\\infty} {\\longrightarrow} +\\infty$, il existe A tel que :\n",
    "\n",
    "$$\n",
    "\\forall(x_1,x_2)\\in \\mathbb{R}^2 , \\|(x_1,x_2)\\| \\geqslant A \\Rightarrow f(x_1,x_2) \\geqslant B \\Rightarrow f(x_1,x_2)\\neq c\n",
    "$$\n",
    "  Ainsi, l'*ensemble de niveau* de $c$ est borné."
   ]
  },
  {
   "cell_type": "code",
   "execution_count": null,
   "metadata": {},
   "outputs": [],
   "source": []
  },
  {
   "cell_type": "code",
   "execution_count": null,
   "metadata": {},
   "outputs": [],
   "source": []
  },
  {
   "cell_type": "code",
   "execution_count": null,
   "metadata": {},
   "outputs": [],
   "source": []
  },
  {
   "cell_type": "code",
   "execution_count": null,
   "metadata": {},
   "outputs": [],
   "source": []
  },
  {
   "cell_type": "code",
   "execution_count": null,
   "metadata": {},
   "outputs": [],
   "source": []
  },
  {
   "cell_type": "code",
   "execution_count": null,
   "metadata": {},
   "outputs": [],
   "source": []
  }
 ],
 "metadata": {
  "kernelspec": {
   "display_name": "Python 3",
   "language": "python",
   "name": "python3"
  },
  "language_info": {
   "codemirror_mode": {
    "name": "ipython",
    "version": 3
   },
   "file_extension": ".py",
   "mimetype": "text/x-python",
   "name": "python",
   "nbconvert_exporter": "python",
   "pygments_lexer": "ipython3",
   "version": "3.8.3"
  }
 },
 "nbformat": 4,
 "nbformat_minor": 2
}
