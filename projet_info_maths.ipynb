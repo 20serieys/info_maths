{
 "cells": [
  {
   "cell_type": "code",
   "execution_count": 1,
   "metadata": {},
   "outputs": [],
   "source": [
    "# Autograd & Numpy\n",
    "import autograd\n",
    "import autograd.numpy as np\n",
    "\n",
    "# Pandas\n",
    "import pandas as pd\n",
    "\n",
    "# Matplotlib\n",
    "import matplotlib as mpl\n",
    "import matplotlib.pyplot as plt\n",
    "plt.rcParams['figure.figsize'] = [10, 10] # [width, height] (inches). \n",
    "\n",
    "# Jupyter & IPython\n",
    "from IPython.display import display"
   ]
  },
  {
   "cell_type": "code",
   "execution_count": 2,
   "metadata": {},
   "outputs": [],
   "source": [
    "def J(f):\n",
    "    j = autograd.jacobian\n",
    "    def J_f(x, y):\n",
    "        return np.array([j(f, 0)(x, y), j(f, 1)(x, y)]).T\n",
    "    return J_f"
   ]
  },
  {
   "cell_type": "code",
   "execution_count": 3,
   "metadata": {
    "tags": []
   },
   "outputs": [],
   "source": [
    "def f1(x1, x2):\n",
    "    # x1 = np.array(x1)\n",
    "    # x2 = np.array(x2)\n",
    "    return 3.0 * x1 * x1 - 2.0 * x1 * x2 + 3.0 * x2 * x2"
   ]
  },
  {
   "cell_type": "markdown",
   "metadata": {
    "tags": []
   },
   "source": [
    "### Question 1\n",
    "Nous allons montrer que l'*ensemble de niveau* de $c$ est fermé et borné dans $\\mathbb{R}^2$, c'est donc un **compact**."
   ]
  },
  {
   "cell_type": "markdown",
   "metadata": {
    "tags": []
   },
   "source": [
    "* Premièrement, $\\{c\\}$ est un fermé, et $f$ est une fonction *continue*. Ainsi $f^{-1}(\\{c\\})$ est un fermé et c'est aussi exactement la *courbe de niveau* de $c$  \n",
    "\n",
    "\n",
    "* Deuxièment, montrons que l'ensemble est borné, c'est à dire qu'il existe $A$ tel que pour tout $(x_1,x_2) \\in\\mathbb{R}^2,  \\|(x_1,x_2)\\|\\geqslant A \\Rightarrow f(x_1,x_2)\\neq{c}$.  \n",
    "\n",
    "On pose $B=2\\lvert c\\rvert$. Comme $f(x_1,x_2) \\underset{\\|(x_1,x_2)\\| \\to +\\infty} {\\longrightarrow} +\\infty$, il existe A tel que :\n",
    "\n",
    "$$\n",
    "\\forall(x_1,x_2)\\in \\mathbb{R}^2 , \\|(x_1,x_2)\\| \\geqslant A \\Rightarrow f(x_1,x_2) \\geqslant B \\Rightarrow f(x_1,x_2)\\neq c\n",
    "$$\n",
    "  Ainsi, l'*ensemble de niveau* de $c$ est borné."
   ]
  },
  {
   "cell_type": "markdown",
   "metadata": {
    "tags": []
   },
   "source": [
    "### Tache 1"
   ]
  },
  {
   "cell_type": "code",
   "execution_count": 32,
   "metadata": {
    "tags": []
   },
   "outputs": [],
   "source": [
    "N=100\n",
    "eps=10**(-4)\n",
    "\n",
    "\n",
    "def Newton(F, x0, y0, eps=eps, N=N):\n",
    "    JF=J(F)\n",
    "    for i in range(N):\n",
    "        X0 = np.array([x0,y0])\n",
    "        X= X0 - np.linalg.inv(JF(x0,y0)).dot(F(x0,y0))\n",
    "        x,y = X\n",
    "        if np.sqrt((x - x0)**2 + (y - y0)**2) <= eps:\n",
    "            return (x, y), f'atteint en {i} étapes'\n",
    "        x0, y0 = x, y\n",
    "    else:\n",
    "        raise ValueError(f\"no convergence in {N} steps.\")"
   ]
  },
  {
   "cell_type": "code",
   "execution_count": 33,
   "metadata": {
    "tags": []
   },
   "outputs": [],
   "source": [
    "c, dirx, diry = 0.8, 1, 1\n",
    "def f1_test(x1, x2):\n",
    "    return np.array([f1(x1, x2) - c, dirx*x2 - diry*x1])"
   ]
  },
  {
   "cell_type": "code",
   "execution_count": 44,
   "metadata": {
    "tags": []
   },
   "outputs": [
    {
     "data": {
      "text/plain": [
       "((0.5163977794943233, -1.2648097754890477e-16), 'atteint en 5 étapes')"
      ]
     },
     "execution_count": 44,
     "metadata": {},
     "output_type": "execute_result"
    }
   ],
   "source": [
    "Newton(f1_test, 0.8, 0.8)"
   ]
  },
  {
   "cell_type": "code",
   "execution_count": 46,
   "metadata": {
    "tags": []
   },
   "outputs": [
    {
     "data": {
      "image/png": "[encoded data removed]",
      "text/plain": [
       "<Figure size 720x720 with 1 Axes>"
      ]
     },
     "metadata": {
      "needs_background": "light"
     },
     "output_type": "display_data"
    }
   ],
   "source": [
    "X,Y = [],[]\n",
    "N = 50\n",
    "c = 0.8\n",
    "teta = np.linspace(0,2*np.pi,N)\n",
    "for t in teta:\n",
    "        dirx, diry = np.cos(t), np.sin(t)\n",
    "        xf, yf = Newton(f1_test, dirx, diry)[0] #le choix de x0 et y0 est totalement arbitraire (il fallait juste que ça varie)\n",
    "        X.append(xf)\n",
    "        Y.append(yf)\n",
    "plt.scatter(X,Y)\n",
    "plt.show()"
   ]
  },
  {
   "cell_type": "code",
   "execution_count": null,
   "metadata": {
    "tags": []
   },
   "outputs": [],
   "source": []
  }
 ],
 "metadata": {
  "kernelspec": {
   "display_name": "Python 3",
   "language": "python",
   "name": "python3"
  },
  "language_info": {
   "codemirror_mode": {
    "name": "ipython",
    "version": 3
   },
   "file_extension": ".py",
   "mimetype": "text/x-python",
   "name": "python",
   "nbconvert_exporter": "python",
   "pygments_lexer": "ipython3",
   "version": "3.8.3"
  }
 },
 "nbformat": 4,
 "nbformat_minor": 2
}
